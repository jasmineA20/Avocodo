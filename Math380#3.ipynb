{
  "nbformat": 4,
  "nbformat_minor": 0,
  "metadata": {
    "colab": {
      "name": "Untitled27.ipynb",
      "provenance": [],
      "authorship_tag": "ABX9TyPNuSNX7TCVYC7VrnwcZR3J",
      "include_colab_link": true
    },
    "kernelspec": {
      "name": "python3",
      "display_name": "Python 3"
    },
    "language_info": {
      "name": "python"
    }
  },
  "cells": [
    {
      "cell_type": "markdown",
      "metadata": {
        "id": "view-in-github",
        "colab_type": "text"
      },
      "source": [
        "<a href=\"https://colab.research.google.com/github/jasmineA20/Avocodo/blob/main/Math380%233.ipynb\" target=\"_parent\"><img src=\"https://colab.research.google.com/assets/colab-badge.svg\" alt=\"Open In Colab\"/></a>"
      ]
    },
    {
      "cell_type": "code",
      "source": [
        "import matplotlib.pyplot as plt"
      ],
      "metadata": {
        "id": "uMeyipyozlSl"
      },
      "execution_count": null,
      "outputs": []
    },
    {
      "cell_type": "code",
      "execution_count": null,
      "metadata": {
        "colab": {
          "base_uri": "https://localhost:8080/",
          "height": 319
        },
        "id": "OBfy0EHHyJDT",
        "outputId": "55ede9c6-206d-49f5-cbcf-707954dee086"
      },
      "outputs": [
        {
          "output_type": "stream",
          "name": "stdout",
          "text": [
            "[1000, -1150.0, 1430.0, -1666.0, 2049.2, -2409.0399999999995, 2940.8479999999995, -3479.017599999999, 4224.821119999999, -5019.785343999998, 6073.7424127999975]\n"
          ]
        },
        {
          "output_type": "execute_result",
          "data": {
            "text/plain": [
              "(0.0, 10.0, -5000.0, 5000.0)"
            ]
          },
          "metadata": {},
          "execution_count": 43
        },
        {
          "output_type": "display_data",
          "data": {
            "image/png": "[encoded data removed]",
            "text/plain": [
              "<Figure size 432x288 with 1 Axes>"
            ]
          },
          "metadata": {
            "needs_background": "light"
          }
        }
      ],
      "source": [
        "n =10\n",
        "a = [0 for x in range(n+1)]\n",
        "a[0]=1000\n",
        "for i in range(n):\n",
        "  a[i+1]= -1.2*a[i]+50\n",
        "print(a)\n",
        "A = a\n",
        "plt.plot(a,'-ok')\n",
        "plt.axis([0,n,-5000,5000]) "
      ]
    },
    {
      "cell_type": "markdown",
      "source": [
        "HW#3 "
      ],
      "metadata": {
        "id": "ri2vS8cMAmHa"
      }
    },
    {
      "cell_type": "markdown",
      "source": [
        "2.2.6"
      ],
      "metadata": {
        "id": "t339tqwTEqWx"
      }
    },
    {
      "cell_type": "code",
      "source": [
        "import matplotlib.pyplot as plt\n",
        "import numpy as np\n",
        "from sklearn.linear_model import LinearRegression"
      ],
      "metadata": {
        "id": "9HkiDsP_A4wn"
      },
      "execution_count": 14,
      "outputs": []
    },
    {
      "cell_type": "code",
      "source": [
        "y   = [3.5,5,6,7,8]\n",
        "z   = [3,6,9,12,15]\n",
        "sqz = np.sqrt(z)\n",
        "plt.plot(sqz,y, 'o')\n",
        "plt.title('z^(1/2) vs y')"
      ],
      "metadata": {
        "id": "AHkuV6Muyk3q",
        "colab": {
          "base_uri": "https://localhost:8080/",
          "height": 318
        },
        "outputId": "85fca482-fb07-4e98-8b40-c3c8f2ac5265"
      },
      "execution_count": 11,
      "outputs": [
        {
          "output_type": "execute_result",
          "data": {
            "text/plain": [
              "Text(0.5, 1.0, 'z^(1/2) vs y')"
            ]
          },
          "metadata": {},
          "execution_count": 11
        },
        {
          "output_type": "display_data",
          "data": {
            "image/png": "[encoded data removed]",
            "text/plain": [
              "<Figure size 432x288 with 1 Axes>"
            ]
          },
          "metadata": {
            "needs_background": "light"
          }
        }
      ]
    },
    {
      "cell_type": "code",
      "source": [
        "model = LinearRegression()"
      ],
      "metadata": {
        "id": "xwBAdvYKB-4o"
      },
      "execution_count": 15,
      "outputs": []
    },
    {
      "cell_type": "code",
      "source": [
        "sqz = np.sqrt(z).reshape((-1, 1))"
      ],
      "metadata": {
        "id": "Yw0b1E_-C6ns"
      },
      "execution_count": 31,
      "outputs": []
    },
    {
      "cell_type": "code",
      "source": [
        "model.fit(sqz,y)"
      ],
      "metadata": {
        "colab": {
          "base_uri": "https://localhost:8080/"
        },
        "id": "55nmk7QxCc_J",
        "outputId": "86093f35-e4c0-401c-b1e0-966745b08a75"
      },
      "execution_count": 32,
      "outputs": [
        {
          "output_type": "execute_result",
          "data": {
            "text/plain": [
              "LinearRegression()"
            ]
          },
          "metadata": {},
          "execution_count": 32
        }
      ]
    },
    {
      "cell_type": "code",
      "source": [
        "print('intercept:', model.intercept_)\n",
        "print('slope:', model.coef_)\n",
        "r_sq = model.score(sqz,y)\n",
        "print(r_sq)"
      ],
      "metadata": {
        "colab": {
          "base_uri": "https://localhost:8080/"
        },
        "id": "8u7Ip321CwQ-",
        "outputId": "46a32f86-d2d9-4ab5-a290-a472e742d198"
      },
      "execution_count": 33,
      "outputs": [
        {
          "output_type": "stream",
          "name": "stdout",
          "text": [
            "intercept: -0.11027734079409957\n",
            "slope: [2.06985067]\n",
            "0.9979927671395374\n"
          ]
        }
      ]
    },
    {
      "cell_type": "markdown",
      "source": [
        "2.2.12"
      ],
      "metadata": {
        "id": "NF6BpaL_Et2i"
      }
    },
    {
      "cell_type": "code",
      "source": [
        "y = np.array([6,15,42,114,311,845,2300,6250,17000,46255])\n",
        "x  = np.linspace(1,10,10)\n",
        "ex  = np.exp(x)\n",
        "plt.plot(ex,y,\"o\")"
      ],
      "metadata": {
        "colab": {
          "base_uri": "https://localhost:8080/",
          "height": 302
        },
        "id": "ZwGRgp63EweP",
        "outputId": "99f4aadf-0c52-4ca3-86df-4537ddeceb81"
      },
      "execution_count": 49,
      "outputs": [
        {
          "output_type": "execute_result",
          "data": {
            "text/plain": [
              "[<matplotlib.lines.Line2D at 0x7f2d3f901e50>]"
            ]
          },
          "metadata": {},
          "execution_count": 49
        },
        {
          "output_type": "display_data",
          "data": {
            "image/png": "[encoded data removed]",
            "text/plain": [
              "<Figure size 432x288 with 1 Axes>"
            ]
          },
          "metadata": {
            "needs_background": "light"
          }
        }
      ]
    },
    {
      "cell_type": "code",
      "source": [
        "ex  = np.exp(x).reshape((-1, 1))"
      ],
      "metadata": {
        "id": "6JoPqXHaFO1p"
      },
      "execution_count": 50,
      "outputs": []
    },
    {
      "cell_type": "code",
      "source": [
        "model.fit(ex,y)"
      ],
      "metadata": {
        "colab": {
          "base_uri": "https://localhost:8080/"
        },
        "id": "WRQ_acNyGqU1",
        "outputId": "02f330a3-755b-40c4-dc48-419ac778cb54"
      },
      "execution_count": 51,
      "outputs": [
        {
          "output_type": "execute_result",
          "data": {
            "text/plain": [
              "LinearRegression()"
            ]
          },
          "metadata": {},
          "execution_count": 51
        }
      ]
    },
    {
      "cell_type": "code",
      "source": [
        "print('intercept:', model.intercept_)\n",
        "print('slope:', model.coef_)\n",
        "r_sq = model.score(ex,y)\n",
        "print(r_sq)"
      ],
      "metadata": {
        "colab": {
          "base_uri": "https://localhost:8080/"
        },
        "id": "AarkvepEGtk1",
        "outputId": "d2e39118-1f4f-4163-f0d8-918ba666c5e3"
      },
      "execution_count": 53,
      "outputs": [
        {
          "output_type": "stream",
          "name": "stdout",
          "text": [
            "intercept: -2.9002149021944206\n",
            "slope: [2.09985871]\n",
            "0.9999998644233566\n"
          ]
        }
      ]
    },
    {
      "cell_type": "markdown",
      "source": [
        "2.3.4 "
      ],
      "metadata": {
        "id": "1pZgSYxHHCNM"
      }
    },
    {
      "cell_type": "markdown",
      "source": [
        "a)The surface area of a cube = $6l^2$, where l is the length of the side of the cube. \n",
        "Since the heat loss (H) $\\propto$ surface area (S) and S $\\propto$ $l^2$, we have H $\\propto l^2$. Suppose cube of side 6in is denoted by 1 and 12in is denoted by 2. Then, \\\\\n",
        "$\\frac{H_1}{H_2} = \\frac{l_1^2}{l_2^2} = \\frac{1}{4}$ \\\\\n",
        "Therefore, the heat loss in a cube of side length 12in is 4 times the heat loss in a cube of side length 6in \\\\\n",
        "\\\n",
        "b)Assuming l is the characteristic dimension of the submarine, and that H$\\propto l^2$. Then H $\\propto$ S and S$\\propto l^2$. Suppose 70ft submarine is denoted by index 1 and 7ft by 2. Then, \\\n",
        "$\\frac{H_1}{H_2} = \\frac{l_1^2}{l_2^2} = 100 $\n",
        "\\\n",
        "c)Assuming that the energy is proportional to the heat loss, \n",
        "$\\frac{E_1}{E_2} = 100$\n"
      ],
      "metadata": {
        "id": "YgFZSlMXJlX5"
      }
    },
    {
      "cell_type": "markdown",
      "source": [
        "2.3 Project #2 "
      ],
      "metadata": {
        "id": "oGIdlh4JL8dM"
      }
    },
    {
      "cell_type": "markdown",
      "source": [
        "a) The total amount of energy available is proportional to the blood flow through the lungs. Blood flow through lungs is directly proportional to the volume of the blood pumped in per pulse. The volume of blood pumped in one pule is inversely proportional to the pulse rate. \n",
        "V $\\propto \\frac{1}{P}$ \\\n",
        "The energy lost is directily proportional to the volume of blood pumped per second. $E_{lost} \\propto \\frac{1}{P}$ \\\n",
        "Suppose the body is maintained at a constant temperature T. Then the energy gained by a mass m body is given by $E_{gain} = m*T$ \\\n",
        "$E_{gain} \\propto mass$\\\n",
        "Therefore, $ m \\propto \\frac{1}{P}$\n"
      ],
      "metadata": {
        "id": "NovlM9MjQlw2"
      }
    },
    {
      "cell_type": "code",
      "source": [
        "bird       = ('Canary','Pigeon','Crow','Buzzard','Duck','Hen','Goose','Turkey','Ostrich')\n",
        "birdWeight = [20,300,341,658,1100,2000,2300,8750,71000]\n",
        "pulserate  = [1000, 185,378,300,190,312,240,193,60]\n",
        "plt.plot(birdWeight,pulserate,\"o\")"
      ],
      "metadata": {
        "colab": {
          "base_uri": "https://localhost:8080/",
          "height": 302
        },
        "id": "xHrPiTi0HGAb",
        "outputId": "48828720-86d4-446c-be91-0e1d8f619085"
      },
      "execution_count": 61,
      "outputs": [
        {
          "output_type": "execute_result",
          "data": {
            "text/plain": [
              "[<matplotlib.lines.Line2D at 0x7f2d3f703550>]"
            ]
          },
          "metadata": {},
          "execution_count": 61
        },
        {
          "output_type": "display_data",
          "data": {
            "image/png": "[encoded data removed]",
            "text/plain": [
              "<Figure size 432x288 with 1 Axes>"
            ]
          },
          "metadata": {
            "needs_background": "light"
          }
        }
      ]
    },
    {
      "cell_type": "markdown",
      "source": [
        "From this plot we can tell there is no linear relationship. Trying an inverse, "
      ],
      "metadata": {
        "id": "glDDcLXqMMT1"
      }
    },
    {
      "cell_type": "code",
      "source": [
        "bWeight = [x ** -1 for x in birdWeight]"
      ],
      "metadata": {
        "id": "xKq5kP7pMFT7"
      },
      "execution_count": 91,
      "outputs": []
    },
    {
      "cell_type": "code",
      "source": [
        "plt.plot(pulserate,bWeight,\"o\")"
      ],
      "metadata": {
        "colab": {
          "base_uri": "https://localhost:8080/",
          "height": 302
        },
        "id": "HLSNnExEMZXs",
        "outputId": "bd537842-c2ff-4a71-f866-bbfe1b93367f"
      },
      "execution_count": 92,
      "outputs": [
        {
          "output_type": "execute_result",
          "data": {
            "text/plain": [
              "[<matplotlib.lines.Line2D at 0x7f2d3f150650>]"
            ]
          },
          "metadata": {},
          "execution_count": 92
        },
        {
          "output_type": "display_data",
          "data": {
            "image/png": "[encoded data removed]",
            "text/plain": [
              "<Figure size 432x288 with 1 Axes>"
            ]
          },
          "metadata": {
            "needs_background": "light"
          }
        }
      ]
    },
    {
      "cell_type": "markdown",
      "source": [
        "This looks better so we decrease the power"
      ],
      "metadata": {
        "id": "Dx0mRugnN6hN"
      }
    },
    {
      "cell_type": "code",
      "source": [
        "bWeight = [(y ** -1)**0.01 for y in birdWeight]"
      ],
      "metadata": {
        "id": "zYef2bEMNq4c"
      },
      "execution_count": 120,
      "outputs": []
    },
    {
      "cell_type": "code",
      "source": [
        "plt.plot(pulserate,bWeight,\"o\")"
      ],
      "metadata": {
        "colab": {
          "base_uri": "https://localhost:8080/",
          "height": 302
        },
        "id": "XBCnoPB8OBhl",
        "outputId": "4db88baa-8e66-4215-8bee-27e6e6aacf3e"
      },
      "execution_count": 121,
      "outputs": [
        {
          "output_type": "execute_result",
          "data": {
            "text/plain": [
              "[<matplotlib.lines.Line2D at 0x7f2d3ee27510>]"
            ]
          },
          "metadata": {},
          "execution_count": 121
        },
        {
          "output_type": "display_data",
          "data": {
            "image/png": "[encoded data removed]",
            "text/plain": [
              "<Figure size 432x288 with 1 Axes>"
            ]
          },
          "metadata": {
            "needs_background": "light"
          }
        }
      ]
    },
    {
      "cell_type": "code",
      "source": [
        "prate = np.array([1000, 185,378,300,190,312,240,193,60]).reshape((-1, 1))\n",
        "bWeight = np.array([(y ** -1)**0.1 for y in birdWeight])"
      ],
      "metadata": {
        "id": "eQ0SrdSmOH_v"
      },
      "execution_count": 122,
      "outputs": []
    },
    {
      "cell_type": "code",
      "source": [
        "model.fit(prate,bWeight)"
      ],
      "metadata": {
        "colab": {
          "base_uri": "https://localhost:8080/"
        },
        "id": "gc1XbvLkPLMf",
        "outputId": "1ae3c83f-de7b-4634-8972-d6b13d287b04"
      },
      "execution_count": 123,
      "outputs": [
        {
          "output_type": "execute_result",
          "data": {
            "text/plain": [
              "LinearRegression()"
            ]
          },
          "metadata": {},
          "execution_count": 123
        }
      ]
    },
    {
      "cell_type": "code",
      "source": [
        "print('intercept:', model.intercept_)\n",
        "print('slope:', model.coef_)\n",
        "r_sq = model.score(prate,bWeight)\n",
        "print(r_sq)"
      ],
      "metadata": {
        "colab": {
          "base_uri": "https://localhost:8080/"
        },
        "id": "oPjOUdPqPatw",
        "outputId": "1a0202a8-45ad-4c31-f25f-32fde6ad6323"
      },
      "execution_count": 124,
      "outputs": [
        {
          "output_type": "stream",
          "name": "stdout",
          "text": [
            "intercept: 0.3870972565995078\n",
            "slope: [0.00037061]\n",
            "0.7533366630654647\n"
          ]
        }
      ]
    },
    {
      "cell_type": "markdown",
      "source": [
        "3.1.7"
      ],
      "metadata": {
        "id": "Zih1ZHelSMQu"
      }
    },
    {
      "cell_type": "code",
      "source": [
        "T = (88,225,365,687,4329,10753,30660,60150)\n",
        "r = (57.9,108.2,149.6,227.9,778.1,1428.2,2837.9,4488.9)"
      ],
      "metadata": {
        "id": "FNFZjuFtPdk-"
      },
      "execution_count": 125,
      "outputs": []
    },
    {
      "cell_type": "code",
      "source": [
        "plt.plot(T,r,'o-')\n",
        "plt.title(\"Period(T) vs mean distance (r)\")"
      ],
      "metadata": {
        "colab": {
          "base_uri": "https://localhost:8080/",
          "height": 318
        },
        "id": "3e4e09tOSVBM",
        "outputId": "b5db8e34-da1e-468f-bce8-c0906175aa78"
      },
      "execution_count": 129,
      "outputs": [
        {
          "output_type": "execute_result",
          "data": {
            "text/plain": [
              "Text(0.5, 1.0, 'Period(T) vs mean distance (r)')"
            ]
          },
          "metadata": {},
          "execution_count": 129
        },
        {
          "output_type": "display_data",
          "data": {
            "image/png": "[encoded data removed]",
            "text/plain": [
              "<Figure size 432x288 with 1 Axes>"
            ]
          },
          "metadata": {
            "needs_background": "light"
          }
        }
      ]
    },
    {
      "cell_type": "markdown",
      "source": [
        "Assuming a relationship of the form $T = Cr^a$,"
      ],
      "metadata": {
        "id": "2TpyeuNgSrkL"
      }
    },
    {
      "cell_type": "markdown",
      "source": [
        "lnT = alnr + lnC "
      ],
      "metadata": {
        "id": "eP1EVpxgTk5B"
      }
    },
    {
      "cell_type": "code",
      "source": [
        "lnT = np.array(np.log(T)).reshape((-1, 1))\n",
        "lnr = np.array(np.log(r))"
      ],
      "metadata": {
        "id": "OjtFgJsQSXx6"
      },
      "execution_count": 134,
      "outputs": []
    },
    {
      "cell_type": "code",
      "source": [
        "plt.plot(lnT,lnr,'o')"
      ],
      "metadata": {
        "colab": {
          "base_uri": "https://localhost:8080/",
          "height": 302
        },
        "id": "o_1jhzVfS1-Z",
        "outputId": "a466a22c-9021-438c-f77a-1ff71c452b3e"
      },
      "execution_count": 135,
      "outputs": [
        {
          "output_type": "execute_result",
          "data": {
            "text/plain": [
              "[<matplotlib.lines.Line2D at 0x7f2d3f136c90>]"
            ]
          },
          "metadata": {},
          "execution_count": 135
        },
        {
          "output_type": "display_data",
          "data": {
            "image/png": "[encoded data removed]",
            "text/plain": [
              "<Figure size 432x288 with 1 Axes>"
            ]
          },
          "metadata": {
            "needs_background": "light"
          }
        }
      ]
    },
    {
      "cell_type": "code",
      "source": [
        "model.fit(lnT,lnr)"
      ],
      "metadata": {
        "colab": {
          "base_uri": "https://localhost:8080/"
        },
        "id": "TWNgxLWkS8dg",
        "outputId": "e3f61fa7-a7d2-48fc-9eb8-ab3988edeafe"
      },
      "execution_count": 136,
      "outputs": [
        {
          "output_type": "execute_result",
          "data": {
            "text/plain": [
              "LinearRegression()"
            ]
          },
          "metadata": {},
          "execution_count": 136
        }
      ]
    },
    {
      "cell_type": "code",
      "source": [
        "print('intercept:', model.intercept_)\n",
        "print('slope:', model.coef_)\n",
        "r_sq = model.score(lnT,lnr)\n",
        "print(r_sq)\n",
        "C = np.exp(model.intercept_)\n",
        "print(C)"
      ],
      "metadata": {
        "colab": {
          "base_uri": "https://localhost:8080/"
        },
        "id": "m8CXK7sDTVBl",
        "outputId": "38e74ca1-f10f-4855-f43c-a3e8e1d0ae4b"
      },
      "execution_count": 142,
      "outputs": [
        {
          "output_type": "stream",
          "name": "stdout",
          "text": [
            "intercept: 1.0778809814232693\n",
            "slope: [0.6660098]\n",
            "0.9999954135391794\n",
            "2.938446326885601\n"
          ]
        }
      ]
    },
    {
      "cell_type": "markdown",
      "source": [
        "By comparing the intercept and slope with the equation at the beginning of this problem, a = 0.666 and C = 2.938"
      ],
      "metadata": {
        "id": "ligsDsaMTqY1"
      }
    }
  ]
}
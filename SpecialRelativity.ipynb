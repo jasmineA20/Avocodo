{
  "nbformat": 4,
  "nbformat_minor": 0,
  "metadata": {
    "colab": {
      "name": "SpecialRelativity.ipynb",
      "provenance": [],
      "authorship_tag": "ABX9TyNAiMOZQ2zrRq7c9zFOyxzg",
      "include_colab_link": true
    },
    "kernelspec": {
      "name": "python3",
      "display_name": "Python 3"
    },
    "language_info": {
      "name": "python"
    }
  },
  "cells": [
    {
      "cell_type": "markdown",
      "metadata": {
        "id": "view-in-github",
        "colab_type": "text"
      },
      "source": [
        "<a href=\"https://colab.research.google.com/github/jasmineA20/psychic-broccoli/blob/main/SpecialRelativity.ipynb\" target=\"_parent\"><img src=\"https://colab.research.google.com/assets/colab-badge.svg\" alt=\"Open In Colab\"/></a>"
      ]
    },
    {
      "cell_type": "code",
      "metadata": {
        "colab": {
          "base_uri": "https://localhost:8080/"
        },
        "id": "P0YBEXpONdcJ",
        "outputId": "3e8052c3-17f5-48dd-9026-f2a360597368"
      },
      "source": [
        "from math import *\n",
        "\n",
        "#Variable declaration\n",
        "c = 1;    # Assume speed of light in vacuum to be unity, unit\n",
        "m0 = 1;    # For simplicity assume rest mass of the particle to be unity, unit\n",
        "\n",
        "#Calculations\n",
        "v = c/sqrt(2);    # Given speed of the particle, m/s\n",
        "gama = 1/sqrt(1-v**2/c**2);    # Relativistic factor\n",
        "m = gama*m0;   # The relativistic mass of the particle, unit\n",
        "p = m*v;    # The relativistic momentum of the particle, unit\n",
        "E = m*c**2;    # The relativistic total eneryg of the particle, unit\n",
        "E_k = (m-m0)*c**2;    # The relativistic kinetic energy of the particle, unit\n",
        "\n",
        "#Results\n",
        "print (\"The relativistic mass of the particle \",m,'kg')\n",
        "print (\"The relativistic momentum of the particle\",p,'kgm/s')\n",
        "print (\"The relativistic total energy of the particle \",E,'J')\n",
        "print (\"The relativistic kinetic energy of the particle\",E_k,'J')\n"
      ],
      "execution_count": 5,
      "outputs": [
        {
          "output_type": "stream",
          "text": [
            "The relativistic mass of the particle  1.414213562373095 kg\n",
            "The relativistic momentum of the particle 0.9999999999999998 kgm/s\n",
            "The relativistic total energy of the particle  1.414213562373095 J\n",
            "The relativistic kinetic energy of the particle 0.4142135623730949 J\n"
          ],
          "name": "stdout"
        }
      ]
    },
    {
      "cell_type": "code",
      "metadata": {
        "id": "-w6M1l3VNjRs"
      },
      "source": [
        ""
      ],
      "execution_count": null,
      "outputs": []
    }
  ]
}
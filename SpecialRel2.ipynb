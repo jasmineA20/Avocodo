{
  "nbformat": 4,
  "nbformat_minor": 0,
  "metadata": {
    "colab": {
      "name": "SpecialRel2.ipynb",
      "provenance": [],
      "authorship_tag": "ABX9TyMPKTXscIBMmccnCIFxQB7r",
      "include_colab_link": true
    },
    "kernelspec": {
      "name": "python3",
      "display_name": "Python 3"
    },
    "language_info": {
      "name": "python"
    }
  },
  "cells": [
    {
      "cell_type": "markdown",
      "metadata": {
        "id": "view-in-github",
        "colab_type": "text"
      },
      "source": [
        "<a href=\"https://colab.research.google.com/github/jasmineA20/psychic-broccoli/blob/main/SpecialRel2.ipynb\" target=\"_parent\"><img src=\"https://colab.research.google.com/assets/colab-badge.svg\" alt=\"Open In Colab\"/></a>"
      ]
    },
    {
      "cell_type": "code",
      "metadata": {
        "colab": {
          "base_uri": "https://localhost:8080/"
        },
        "id": "skf0ImraTb86",
        "outputId": "7d281e30-ce7b-419a-9f3d-404946311c12"
      },
      "source": [
        "#!/usr/bin/env python\n",
        "import sys, os, math\n",
        "\n",
        "c = 299792458\n",
        "\n",
        "def main():\n",
        "    print(\"SpecialRel.py has been loaded.\")\n",
        "\n",
        "def ctometer(a):    # Converts the speed that is in terms of c to meters per second.\n",
        "    return a * c\n",
        "\n",
        "def metertoc(a):    # Converts the speeed that is in terms of meters per second into terms of c.\n",
        "    return float(a / c)\n",
        "\n",
        "def gamma(v):    # Calculates the gamma taking the speed in terms of c.\n",
        "    return float((1 / math.sqrt((1 - (v**2)))))\n",
        "\n",
        "def ctogamma(v):  # Calculates the value of gamma based on the speed in terms of meters per second.\n",
        "    return float(gamma(metertoc(v)))\n",
        "\n",
        "def xlorentz(speed, x, t):  # Calculates the lorentz transformation for space.\n",
        "    return float(gamma(speed) * (x - speed * t))\n",
        "\n",
        "def tlorentz(speed, x, t):  # Calculates the lorentz transformation for time.\n",
        "    return float(gamma(speed) * (t - speed * x))\n",
        "\n",
        "def vlorentz(v, w):  # Calculates the lorentz transformation for velocity.\n",
        "    return float((v - w) / (1 - (v * w)))\n",
        "\n",
        "def timedialation(v, t):  # Calculates the time dialation based on the velocity and time.\n",
        "    return float(gamma(v) * t)\n",
        "\n",
        "def lengthcontraction(v, h):   # Calculates the length contraction based on the velocity and time.\n",
        "    return float(h / (gamma(v)))\n",
        "\n",
        "def spacetimeinterval(x, t):   # Calculates the spacetime interval based on the space and time.\n",
        "    return float(math.sqrt((t**2) -(x**2)))\n",
        "\n",
        "def spacetimeinterval2(t1, t2, x1, x2):\n",
        "    return float(math.sqrt((t2 - t1)**2 - (x2 - x1)**2))\n",
        "\n",
        "def spaceinterval(x1, x2):\n",
        "    return float(x2 - x1)\n",
        "\n",
        "def timeinterval(t1, t2):\n",
        "    return float(t2 - t1)\n",
        "\n",
        "def restenergy(m, c):\n",
        "    return float(m * c * c)\n",
        "\n",
        "def totalenergy(m, v):\n",
        "    gamma_factor = gamma(v)\n",
        "    return float(gamma_factor * m * 3e16)\n",
        "\n",
        "def totalmomentum(m, v):\n",
        "    gamma_factor = gamma(v)\n",
        "    return float(gamma_factor * m * v)\n",
        "\n",
        "\n",
        "\n",
        "if __name__==\"__main__\":\n",
        "    main()"
      ],
      "execution_count": 1,
      "outputs": [
        {
          "output_type": "stream",
          "text": [
            "SpecialRel.py has been loaded.\n"
          ],
          "name": "stdout"
        }
      ]
    },
    {
      "cell_type": "code",
      "metadata": {
        "id": "r5A8VsB1Tcku"
      },
      "source": [
        ""
      ],
      "execution_count": null,
      "outputs": []
    }
  ]
}
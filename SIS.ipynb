{
  "nbformat": 4,
  "nbformat_minor": 0,
  "metadata": {
    "colab": {
      "name": "Untitled20.ipynb",
      "provenance": [],
      "authorship_tag": "ABX9TyMt2pTBoguEoKiPdmeOV0uh",
      "include_colab_link": true
    },
    "kernelspec": {
      "name": "python3",
      "display_name": "Python 3"
    },
    "language_info": {
      "name": "python"
    }
  },
  "cells": [
    {
      "cell_type": "markdown",
      "metadata": {
        "id": "view-in-github",
        "colab_type": "text"
      },
      "source": [
        "<a href=\"https://colab.research.google.com/github/jasmineA20/psychic-broccoli/blob/main/SIS.ipynb\" target=\"_parent\"><img src=\"https://colab.research.google.com/assets/colab-badge.svg\" alt=\"Open In Colab\"/></a>"
      ]
    },
    {
      "cell_type": "code",
      "metadata": {
        "id": "Eayj0zHZOKdB"
      },
      "source": [
        "import matplotlib\n",
        "import matplotlib.pyplot as plt\n",
        "import numpy as np\n",
        "from scipy.integrate import quad\n",
        "\n",
        "\n",
        "#Fit parameters\n",
        "k     = 0.08617\n",
        "delta = 1\n",
        "T     = 1.38\n",
        "gamma = 0.05\n",
        "beta  = 1/(k*T)"
      ],
      "execution_count": 1,
      "outputs": []
    },
    {
      "cell_type": "code",
      "metadata": {
        "id": "eybmG6ujON3P"
      },
      "source": [
        "def z(e):\n",
        "    return complex(e,-gamma)\n",
        "\n",
        "#Define Functions\n",
        "\n",
        "#BCS DOS\n",
        "# with gaussian\n",
        "def N(e):\n",
        "    return np.abs(np.real(z(e)/np.sqrt(z(e)**2 - delta**2)))\n",
        "\n",
        "\n",
        "def f(e):\n",
        "    return 1/(1 + np.exp(beta))\n",
        "\n"
      ],
      "execution_count": null,
      "outputs": []
    },
    {
      "cell_type": "code",
      "metadata": {
        "id": "wsXzLHARORa-"
      },
      "source": [
        "n    = np.vectorize(N)\n",
        "eval = np.linspace(-5,5,100)\n",
        "\n",
        "#BCS density of states plot\n",
        "#print(n(eval,delta,gamma))\n",
        "plt.plot(eval,n(eval))\n",
        "plt.show()\n",
        "\n"
      ],
      "execution_count": null,
      "outputs": []
    },
    {
      "cell_type": "code",
      "metadata": {
        "id": "hKQvaoV2OTxH"
      },
      "source": [
        "v    = np.linspace(-5,5,100)\n",
        "\n",
        "#def integrand(eval,v):\n",
        "#    return N(eval,delta,gamma)*N(eval+v,delta,gamma)*(f(eval,beta)-f(eval+v,beta))\n",
        "integrand = N(eval)*N(eval+v)*(f(eval)-f(eval+v))\n",
        "\n",
        "def I(eval,v):\n",
        "    return quad(integrand,-np.inf,np.inf,args=(v))[0]\n",
        "\n",
        "\n",
        "vec_i = np.vectorize(I)\n",
        "#print(vec_i(eval,v))\n",
        "plt.plot(v,vec_i(eval,v))\n",
        "plt.show()\n"
      ],
      "execution_count": null,
      "outputs": []
    }
  ]
}
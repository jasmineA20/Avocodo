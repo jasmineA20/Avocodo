{
  "nbformat": 4,
  "nbformat_minor": 0,
  "metadata": {
    "colab": {
      "name": "Untitled20.ipynb",
      "provenance": [],
      "authorship_tag": "ABX9TyMYiXOyRkgOoS+ggEhFTSLt",
      "include_colab_link": true
    },
    "kernelspec": {
      "name": "python3",
      "display_name": "Python 3"
    },
    "language_info": {
      "name": "python"
    }
  },
  "cells": [
    {
      "cell_type": "markdown",
      "metadata": {
        "id": "view-in-github",
        "colab_type": "text"
      },
      "source": [
        "<a href=\"https://colab.research.google.com/github/jasmineA20/psychic-broccoli/blob/main/SIS.ipynb\" target=\"_parent\"><img src=\"https://colab.research.google.com/assets/colab-badge.svg\" alt=\"Open In Colab\"/></a>"
      ]
    },
    {
      "cell_type": "code",
      "metadata": {
        "id": "Eayj0zHZOKdB"
      },
      "source": [
        "import matplotlib\n",
        "import matplotlib.pyplot as plt\n",
        "import numpy as np\n",
        "from scipy.integrate import quad\n",
        "\n",
        "\n",
        "#Fit parameters\n",
        "k     = 0.08617\n",
        "delta = 1\n",
        "T     = 1.38\n",
        "gamma = 0.05\n",
        "beta  = 1/(k*T)"
      ],
      "execution_count": 40,
      "outputs": []
    },
    {
      "cell_type": "code",
      "metadata": {
        "id": "q_iabaitIMTf"
      },
      "source": [
        "def z(e):\n",
        "  return e - gamma * 1.0j"
      ],
      "execution_count": 41,
      "outputs": []
    },
    {
      "cell_type": "code",
      "metadata": {
        "id": "eybmG6ujON3P"
      },
      "source": [
        "#Define Functions\n",
        "\n",
        "#BCS DOS\n",
        "# with gaussian\n",
        "def N(e):\n",
        "    return np.abs(np.real(z(e)/np.sqrt(z(e)**2 - delta**2)))\n",
        "\n",
        "\n",
        "def f(e):\n",
        "    return 1/(1 + np.exp(beta))\n",
        "\n"
      ],
      "execution_count": 42,
      "outputs": []
    },
    {
      "cell_type": "code",
      "metadata": {
        "id": "wsXzLHARORa-",
        "outputId": "74bcfd27-da54-43a4-e1fe-f80216994576",
        "colab": {
          "base_uri": "https://localhost:8080/",
          "height": 286
        }
      },
      "source": [
        "n    = np.vectorize(N)\n",
        "eval = np.linspace(-5,5,100)\n",
        "\n",
        "#BCS density of states plot\n",
        "#print(n(eval,delta,gamma))\n",
        "plt.plot(eval,n(eval))\n",
        "plt.show()\n",
        "\n"
      ],
      "execution_count": 43,
      "outputs": [
        {
          "output_type": "display_data",
          "data": {
            "image/png": "[encoded data removed]",
            "text/plain": [
              "<Figure size 432x288 with 1 Axes>"
            ]
          },
          "metadata": {
            "tags": [],
            "needs_background": "light"
          }
        }
      ]
    },
    {
      "cell_type": "code",
      "metadata": {
        "id": "Fv2n65ZQUgOM"
      },
      "source": [
        "def fp(e):\n",
        "    return -1*(1/(k*T))*np.exp(-e/(k*T))/((1+np.exp(-e/(k*T)))**2)"
      ],
      "execution_count": 102,
      "outputs": []
    },
    {
      "cell_type": "code",
      "metadata": {
        "id": "2ZtqXKCCTh9h"
      },
      "source": [
        "def integrand(e,v,delta):\n",
        "  return np.abs(N(e,delta)*fp(e-v))"
      ],
      "execution_count": 105,
      "outputs": []
    },
    {
      "cell_type": "code",
      "metadata": {
        "id": "hKQvaoV2OTxH"
      },
      "source": [
        "xmin = -5\n",
        "xmax =  5 \n",
        "v    = np.linspace(xmin,xmax,100)\n",
        "didvr = [[],[],[]]\n",
        "\n",
        "for a in v : \n",
        "  didvr[0].append(quad(integrand,delta,a+5,args = (a,delta),limit=100)[0])\n"
      ],
      "execution_count": 106,
      "outputs": []
    },
    {
      "cell_type": "code",
      "metadata": {
        "id": "IW5GBt0FVWWB",
        "outputId": "3f668286-1eba-4a6e-985d-31ee9437d5ee",
        "colab": {
          "base_uri": "https://localhost:8080/",
          "height": 319
        }
      },
      "source": [
        "plt.figure(1)\n",
        "\n",
        "plt.axis([xmin,xmax,0,2.5])\n",
        "plt.xlabel(\"Voltage (mV)\",fontsize=18)\n",
        "plt.ylabel(\"Normalized Conductance\",fontsize=18)\n",
        "plt.plot(v,didvr[0],color=\"blue\",linewidth=3)\n",
        "plt.tick_params(axis='y',pad=10)\n",
        "plt.tick_params(axis='x',pad=10)\n",
        "\n",
        "#a = plt.axes([.53,.16,.34,.34],facecolor='#ededed')"
      ],
      "execution_count": 110,
      "outputs": [
        {
          "output_type": "display_data",
          "data": {
            "image/png": "[encoded data removed]",
            "text/plain": [
              "<Figure size 432x288 with 1 Axes>"
            ]
          },
          "metadata": {
            "tags": [],
            "needs_background": "light"
          }
        }
      ]
    },
    {
      "cell_type": "markdown",
      "metadata": {
        "id": "s7YVdjg5VaQ3"
      },
      "source": [
        "**From the Proximity model**"
      ]
    },
    {
      "cell_type": "code",
      "metadata": {
        "id": "p2MS6Qz7PhF1"
      },
      "source": [
        "Delta = 1.38\n",
        "k = 0.08617\n",
        "T = 4.2"
      ],
      "execution_count": 81,
      "outputs": []
    },
    {
      "cell_type": "code",
      "metadata": {
        "id": "Pxkp_bXSODm6"
      },
      "source": [
        "def N(e,Delta):\n",
        "    return e/np.sqrt(e**2-Delta**2+0j)\n",
        "\n",
        "#Fermi-Dirac Distribution\n",
        "def f(e):\n",
        "    return 1/(1+np.exp(-e/(k*T)))\n",
        "\n",
        "def fp(e):\n",
        "    return -1*(1/(k*T))*np.exp(-e/(k*T))/((1+np.exp(-e/(k*T)))**2)\n",
        "\n",
        "\n",
        "def bcsintgnd(e,v,Delta):\n",
        "    return np.abs(N(e,Delta))*(-fp(e-v))"
      ],
      "execution_count": 82,
      "outputs": []
    },
    {
      "cell_type": "code",
      "metadata": {
        "id": "bvqN2CDYPNfk",
        "outputId": "fda66526-d6f4-4ef0-a7f2-9d9b771658c9",
        "colab": {
          "base_uri": "https://localhost:8080/",
          "height": 319
        }
      },
      "source": [
        "xmin    = -8\n",
        "xmax    = 8\n",
        "\n",
        "vr      = np.linspace(xmin,xmax,100)#200\n",
        "didvr   = [[],[],[]]\n",
        "cutoff  = 5\n",
        "\n",
        "for v in vr:\n",
        "    didvr[0].append(quad(bcsintgnd,Delta,v+cutoff,args=(v,Delta),limit=100)[0])\n",
        "\n",
        "plt.figure(1)\n",
        "\n",
        "plt.axis([xmin,xmax,0,2.5])\n",
        "plt.xlabel(\"Voltage (mV)\",fontsize=18)\n",
        "plt.ylabel(\"Normalized Conductance\",fontsize=18)\n",
        "plt.plot(vr,didvr[0],color=\"blue\",linewidth=3)\n",
        "plt.tick_params(axis='y',pad=10)\n",
        "plt.tick_params(axis='x',pad=10)\n",
        "\n",
        "#a = plt.axes([.53,.16,.34,.34],facecolor='#ededed')"
      ],
      "execution_count": 111,
      "outputs": [
        {
          "output_type": "display_data",
          "data": {
            "image/png": "[encoded data removed]",
            "text/plain": [
              "<Figure size 432x288 with 1 Axes>"
            ]
          },
          "metadata": {
            "tags": [],
            "needs_background": "light"
          }
        }
      ]
    },
    {
      "cell_type": "code",
      "metadata": {
        "id": "h6KRPwV4PdUU"
      },
      "source": [
        "#Functions from the Proximity Model DOS\n",
        "def Omega(e,Delta):\n",
        "    return np.sqrt(e**2-Delta**2+0j)\n",
        "\n",
        "def F(e):\n",
        "    return (e**2 - DeltaS*DeltaN)/(Omega(e,DeltaN)*Omega(e,DeltaS))\n",
        "\n",
        "def G(e):\n",
        "    return e*(DeltaS-DeltaN)/(Omega(e,DeltaN)*Omega(e,DeltaS))\n",
        "\n",
        "def DKd(e,dl,R):\n",
        "    return R*Omega(e,DeltaN)+dl*1j\n",
        "\n",
        "def sigma(e,dl,R):\n",
        "    return np.imag( ((e/Omega(e,DeltaN))*( F(e)*np.cos(DKd(e,dl,R))*1j + np.sin(DKd(e,dl,R)) )+1j*G(e)*DeltaN/Omega(e,DeltaN))/(np.cos(DKd(e,dl,R)) - F(e)*np.sin(DKd(e,dl,R))*1j) )\n"
      ],
      "execution_count": 86,
      "outputs": []
    },
    {
      "cell_type": "code",
      "metadata": {
        "id": "ng9_hI5ZR827",
        "outputId": "6ba87ec6-ffc6-40b3-ab62-66f659382939",
        "colab": {
          "base_uri": "https://localhost:8080/",
          "height": 550
        }
      },
      "source": [
        "vr = np.linspace(xmin,xmax,100)#200\n",
        "didvr = [[],[],[]]\n",
        "cutoff=5\n",
        "for v in vr:\n",
        "    didvr[0].append(quad(intgnd,v-cutoff,v+cutoff,args=(v,dl,Rhigh),limit=100)[0])\n",
        "    didvr[1].append(quad(intgnd,v-cutoff,v+cutoff,args=(v,dl,Rlow),limit=100)[0])\n",
        "    didvr[2].append(quad(bcsintgnd,DeltaS,v+cutoff,args=(v,DeltaS),limit=100)[0])\n",
        "\n",
        "plt.figure(1)\n",
        "\n",
        "plt.axis([xmin,xmax,0,2.3])\n",
        "plt.xlabel(\"Voltage (mV)\",fontsize=18)\n",
        "plt.ylabel(\"Normalized Conductance\",fontsize=18)\n",
        "plt.plot(vr,didvr[0],color=\"black\",linewidth=3)\n",
        "plt.plot(vr,didvr[1],color=\"red\",linewidth=3)\n",
        "plt.plot(vr,didvr[2],color=\"blue\",linewidth=3)\n",
        "plt.tick_params(axis='y',pad=10)\n",
        "plt.tick_params(axis='x',pad=10)\n"
      ],
      "execution_count": 112,
      "outputs": [
        {
          "output_type": "stream",
          "text": [
            "/usr/local/lib/python3.7/dist-packages/ipykernel_launcher.py:5: IntegrationWarning: The maximum number of subdivisions (100) has been achieved.\n",
            "  If increasing the limit yields no improvement it is advised to analyze \n",
            "  the integrand in order to determine the difficulties.  If the position of a \n",
            "  local difficulty can be determined (singularity, discontinuity) one will \n",
            "  probably gain from splitting up the interval and calling the integrator \n",
            "  on the subranges.  Perhaps a special-purpose integrator should be used.\n",
            "  \"\"\"\n",
            "/usr/local/lib/python3.7/dist-packages/ipykernel_launcher.py:6: IntegrationWarning: The maximum number of subdivisions (100) has been achieved.\n",
            "  If increasing the limit yields no improvement it is advised to analyze \n",
            "  the integrand in order to determine the difficulties.  If the position of a \n",
            "  local difficulty can be determined (singularity, discontinuity) one will \n",
            "  probably gain from splitting up the interval and calling the integrator \n",
            "  on the subranges.  Perhaps a special-purpose integrator should be used.\n",
            "  \n"
          ],
          "name": "stderr"
        },
        {
          "output_type": "display_data",
          "data": {
            "image/png": "[encoded data removed]",
            "text/plain": [
              "<Figure size 432x288 with 1 Axes>"
            ]
          },
          "metadata": {
            "tags": [],
            "needs_background": "light"
          }
        }
      ]
    },
    {
      "cell_type": "code",
      "metadata": {
        "id": "IuKkHwODSBXL"
      },
      "source": [
        ""
      ],
      "execution_count": null,
      "outputs": []
    }
  ]
}
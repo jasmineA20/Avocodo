{
  "nbformat": 4,
  "nbformat_minor": 0,
  "metadata": {
    "colab": {
      "name": "SpecialRelGraph.ipynb",
      "provenance": [],
      "authorship_tag": "ABX9TyPtadiEuXkZoy+y6SFFGFe+",
      "include_colab_link": true
    },
    "kernelspec": {
      "name": "python3",
      "display_name": "Python 3"
    },
    "language_info": {
      "name": "python"
    }
  },
  "cells": [
    {
      "cell_type": "markdown",
      "metadata": {
        "id": "view-in-github",
        "colab_type": "text"
      },
      "source": [
        "<a href=\"https://colab.research.google.com/github/jasmineA20/psychic-broccoli/blob/main/SpecialRelGraph.ipynb\" target=\"_parent\"><img src=\"https://colab.research.google.com/assets/colab-badge.svg\" alt=\"Open In Colab\"/></a>"
      ]
    },
    {
      "cell_type": "code",
      "metadata": {
        "colab": {
          "base_uri": "https://localhost:8080/",
          "height": 368
        },
        "id": "7nAmLwMIUK1w",
        "outputId": "b85eee10-6949-43ce-ed43-8349935bb416"
      },
      "source": [
        "import sys, os, math\n",
        "import optparse\n",
        "\n",
        "import SpecialRel as sprl\n",
        "import matplotlib.pyplot as plt\n",
        "import numpy as np\n",
        "\n",
        "def time_of_the_object(v, b, x):\n",
        "    return (1 / v) * x + b\n",
        "\n",
        "def given_velocity_and_initial_position(v, b=0, limit=11, lower_limit=-11):\n",
        "\n",
        "    data = []\n",
        "\n",
        "    for i in np.arange(lower_limit,limit):\n",
        "        data.append(i)\n",
        "        data.append(time_of_the_object(v, b, i))\n",
        "\n",
        "    print(data)\n",
        "\n",
        "    return data\n",
        "\n",
        "def retrieve_ycoords(data):\n",
        "\n",
        "    y_axis_coord = []\n",
        "\n",
        "    for i in np.arange(len(data)):\n",
        "        if (i % 2 != 0):\n",
        "            y_axis_coord.append(data[i])\n",
        "\n",
        "    return y_axis_coord\n",
        "\n",
        "def retrieve_xcoords(data):\n",
        "\n",
        "    x_axis_coord = []\n",
        "\n",
        "    for i in np.arange(len(data)):\n",
        "        if (i % 2 == 0):\n",
        "            x_axis_coord.append(int(data[i]))\n",
        "\n",
        "    return x_axis_coord\n",
        "\n",
        "\n",
        "def space_time_graph(data, name_of_object=\"object\"):\n",
        "\n",
        "    x = retrieve_xcoords(data)\n",
        "    y = retrieve_ycoords(data)\n",
        "\n",
        "    slope, intercept = np.polyfit(x, y, 1)\n",
        "\n",
        "    # Create a list of values in the best fit line\n",
        "    abline_values = [slope * i + intercept for i in x]\n",
        "\n",
        "\n",
        "    plt.axhline(linewidth=2, color='black')\n",
        "    plt.axvline(linewidth=2, color='black')\n",
        "\n",
        "    # Plot the best fit line over the actual values\n",
        "    plt.ylabel('Time (s)')\n",
        "    plt.xlabel('Space (m)')\n",
        "    plt.grid(True)\n",
        "    plt.plot(x, y, '--', label=name_of_object)\n",
        "    plt.legend(loc='upper left')\n",
        "\n",
        "    plt.axis('tight')\n",
        "\n",
        "    # plt.plot(x, abline_values, 'b')\n",
        "    plt.title(\"SpaceTime Graph\")\n",
        "    plt.show()\n",
        "\n",
        "\n",
        "\n",
        "\n",
        "def main():\n",
        "\n",
        "    p = optparse.OptionParser()\n",
        "    p.add_option('--velocity', '-v', default=0.2)\n",
        "    p.add_option('--intercept', '-b', default=0)\n",
        "    p.add_option('--upperlimit', '-u', default=11)\n",
        "    p.add_option('--lowerlimit', '-l', default=-11)\n",
        "    p.add_option('--objectname', '-n', default=\"object\")\n",
        "    p.add_option('--gammafactor', '-g', default=1)\n",
        "\n",
        "\n",
        "    options, arguments = p.parse_args()\n",
        "\n",
        "    v = float(options.velocity)\n",
        "    b = float(options.intercept)\n",
        "    ul = float(options.upperlimit)\n",
        "    ll = float(options.lowerlimit)\n",
        "    n = options.objectname\n",
        "\n",
        "    data = given_velocity_and_initial_position(v, b, ul, ll)\n",
        "\n",
        "    space_time_graph(data, n)\n",
        "\n",
        "\n",
        "\n",
        "\n",
        "\n",
        "\n",
        "\n",
        "\n",
        "if __name__==\"__main__\":\n",
        "    main()"
      ],
      "execution_count": 1,
      "outputs": [
        {
          "output_type": "error",
          "ename": "ModuleNotFoundError",
          "evalue": "ignored",
          "traceback": [
            "\u001b[0;31m---------------------------------------------------------------------------\u001b[0m",
            "\u001b[0;31mModuleNotFoundError\u001b[0m                       Traceback (most recent call last)",
            "\u001b[0;32m<ipython-input-1-1a19e1ec9f16>\u001b[0m in \u001b[0;36m<module>\u001b[0;34m()\u001b[0m\n\u001b[1;32m      2\u001b[0m \u001b[0;32mimport\u001b[0m \u001b[0moptparse\u001b[0m\u001b[0;34m\u001b[0m\u001b[0;34m\u001b[0m\u001b[0m\n\u001b[1;32m      3\u001b[0m \u001b[0;34m\u001b[0m\u001b[0m\n\u001b[0;32m----> 4\u001b[0;31m \u001b[0;32mimport\u001b[0m \u001b[0mSpecialRel\u001b[0m \u001b[0;32mas\u001b[0m \u001b[0msprl\u001b[0m\u001b[0;34m\u001b[0m\u001b[0;34m\u001b[0m\u001b[0m\n\u001b[0m\u001b[1;32m      5\u001b[0m \u001b[0;32mimport\u001b[0m \u001b[0mmatplotlib\u001b[0m\u001b[0;34m.\u001b[0m\u001b[0mpyplot\u001b[0m \u001b[0;32mas\u001b[0m \u001b[0mplt\u001b[0m\u001b[0;34m\u001b[0m\u001b[0;34m\u001b[0m\u001b[0m\n\u001b[1;32m      6\u001b[0m \u001b[0;32mimport\u001b[0m \u001b[0mnumpy\u001b[0m \u001b[0;32mas\u001b[0m \u001b[0mnp\u001b[0m\u001b[0;34m\u001b[0m\u001b[0;34m\u001b[0m\u001b[0m\n",
            "\u001b[0;31mModuleNotFoundError\u001b[0m: No module named 'SpecialRel'",
            "",
            "\u001b[0;31m---------------------------------------------------------------------------\u001b[0;32m\nNOTE: If your import is failing due to a missing package, you can\nmanually install dependencies using either !pip or !apt.\n\nTo view examples of installing some common dependencies, click the\n\"Open Examples\" button below.\n\u001b[0;31m---------------------------------------------------------------------------\u001b[0m\n"
          ]
        }
      ]
    },
    {
      "cell_type": "code",
      "metadata": {
        "id": "vowQBjUxULdk"
      },
      "source": [
        ""
      ],
      "execution_count": null,
      "outputs": []
    }
  ]
}
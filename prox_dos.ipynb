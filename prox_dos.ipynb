{
  "nbformat": 4,
  "nbformat_minor": 0,
  "metadata": {
    "colab": {
      "name": "Untitled16.ipynb",
      "provenance": [],
      "authorship_tag": "ABX9TyNQ+rnLnybpXDvMvC3suLS8",
      "include_colab_link": true
    },
    "kernelspec": {
      "name": "python3",
      "display_name": "Python 3"
    },
    "language_info": {
      "name": "python"
    }
  },
  "cells": [
    {
      "cell_type": "markdown",
      "metadata": {
        "id": "view-in-github",
        "colab_type": "text"
      },
      "source": [
        "<a href=\"https://colab.research.google.com/github/jasmineA20/psychic-broccoli/blob/main/prox_dos.ipynb\" target=\"_parent\"><img src=\"https://colab.research.google.com/assets/colab-badge.svg\" alt=\"Open In Colab\"/></a>"
      ]
    },
    {
      "cell_type": "code",
      "metadata": {
        "colab": {
          "base_uri": "https://localhost:8080/",
          "height": 495
        },
        "id": "PDotcjOqFA7T",
        "outputId": "7edf3bea-c478-4fef-eaa3-339cf4abd78d"
      },
      "source": [
        "import matplotlib\n",
        "import matplotlib.pyplot as plt\n",
        "import numpy as np\n",
        "from scipy.integrate import quad\n",
        "import csv\n",
        "\n",
        "#Formatting\n",
        "matplotlib.rcParams['axes.linewidth']=1.5\n",
        "plt.tick_params(which='both', direction='in', length=12, width=1.5, right=True, top=True, labelsize=22)\n",
        "plt.tick_params(which='minor',length=5)\n",
        "plt.xticks([0.5,1.0,1.5,2.0,2.5])\n",
        "#plt.minorticks_on()\n",
        "\n",
        "#Import CSVs\n",
        "datahigh = [[],[]]\n",
        "with open(\"./high.csv\") as high:\n",
        "    rdr = csv.reader(high, delimiter=',')\n",
        "    for row in rdr:\n",
        "        datahigh[0].append(float(row[0]))\n",
        "        datahigh[1].append(float(row[1]))\n",
        "datalow = [[],[]]\n",
        "with open(\"./low.csv\") as low:\n",
        "    rdr = csv.reader(low, delimiter=',')\n",
        "    for row in rdr:\n",
        "        datalow[0].append(float(row[0]))\n",
        "        datalow[1].append(float(row[1]))\n",
        "\n",
        "#Fit parameters\n",
        "DeltaS = 1.38\n",
        "DeltaN = 0.69\n",
        "Rhigh=0.085\n",
        "Rlow=0.025\n",
        "k = 0.08617\n",
        "dl = 0.001\n",
        "T = 1.5\n",
        "\n",
        "#Define Functions used in Proximity Model DOS\n",
        "def Omega(e,Delta):\n",
        "    return np.sqrt(e**2-Delta**2+0j)\n",
        "\n",
        "def F(e):\n",
        "    return (e**2 - DeltaS*DeltaN)/(Omega(e,DeltaN)*Omega(e,DeltaS))\n",
        "\n",
        "def G(e):\n",
        "    return e*(DeltaS-DeltaN)/(Omega(e,DeltaN)*Omega(e,DeltaS))\n",
        "\n",
        "def DKd(e,dl,R):\n",
        "    return R*Omega(e,DeltaN)+dl*1j\n",
        "\n",
        "def sigma(e,dl,R):\n",
        "    return np.imag( ((e/Omega(e,DeltaN))*( F(e)*np.cos(DKd(e,dl,R))*1j + np.sin(DKd(e,dl,R)) )+1j*G(e)*DeltaN/Omega(e,DeltaN))/(np.cos(DKd(e,dl,R)) - F(e)*np.sin(DKd(e,dl,R))*1j) )\n",
        "\n",
        "#BCS DOS\n",
        "def N(e,Delta):\n",
        "    return e/np.sqrt(e**2-Delta**2+0j)\n",
        "\n",
        "#Fermi-Dirac Distribution\n",
        "def f(e):\n",
        "    return 1/(np.exp(-e/(k*T))+1)\n",
        "\n",
        "def fp(e):\n",
        "    return -1*(1/(k*T))*np.exp(-e/(k*T))/((1+np.exp(-e/(k*T)))**2)\n",
        "\n",
        "def intgnd(e,v,dl,R):\n",
        "    return np.abs(sigma(e,dl,R))*(-fp(e-v))\n",
        "\n",
        "def bcsintgnd(e,v,Delta):\n",
        "    return np.abs(N(e,Delta))*(-fp(e-v))\n",
        "\n",
        "xmin = 0.5\n",
        "xmax = 2.5\n",
        "\n",
        "vr = np.linspace(xmin,xmax,100)#200\n",
        "didvr = [[],[],[]]\n",
        "cutoff=5\n",
        "for v in vr:\n",
        "    didvr[0].append(quad(intgnd,v-cutoff,v+cutoff,args=(v,dl,Rhigh),limit=100)[0])\n",
        "    didvr[1].append(quad(intgnd,v-cutoff,v+cutoff,args=(v,dl,Rlow),limit=100)[0])\n",
        "    #didvr[2].append(quad(bcsintgnd,DeltaS,v+cutoff,args=(v,DeltaS),limit=100)[0])\n",
        "\n",
        "plt.figure(1)\n",
        "\n",
        "plt.axis([xmin,xmax,0,2.3])\n",
        "plt.xlabel(\"Voltage (mV)\",fontsize=28)\n",
        "plt.ylabel(\"Normalized Conductance (A.U.)\",fontsize=28)\n",
        "plt.plot(vr,didvr[0],color=\"black\",linewidth=3)\n",
        "plt.plot(vr,didvr[1],color=\"black\",linewidth=3)\n",
        "#plt.plot(vr,didvr[2],color=\"blue\",linewidth=3)\n",
        "plt.scatter(datahigh[0],datahigh[1],color='black',s=70,facecolors='red')\n",
        "plt.scatter(datalow[0],datalow[1],color='black',s=70,facecolors='blue')\n",
        "plt.text(0.62,1.42,\"$\\Delta_{S}$=\"+str(DeltaS)+\" meV\\n$\\Delta_{N}$=\"+str(DeltaN)+\" meV\\n$\\\\frac{d}{l}$=\"+str(dl)+\"\\n$R_{high}$=\"+str(Rhigh)+\"\\n$R_{low}$=\"+str(Rlow),fontsize=26,linespacing=1.6)\n",
        "plt.tick_params(axis='y',pad=10)\n",
        "plt.tick_params(axis='x',pad=10)\n",
        "\n",
        "#a = plt.axes([.53,.16,.34,.34],facecolor='#ededed')\n",
        "#a.set_xticks([0.5,1.5,2.5])\n",
        "#a.set_yticks([0.0,1.0,2.0])\n",
        "#a.set_xlim([0.5,2.5])\n",
        "#a.set_ylim([0,2.3])\n",
        "#a.tick_params(which='both', direction='in', length=12, width=1.5, right=True, top=True, labelsize=20,pad=8)\n",
        "#plt.scatter(datahigh[0][22:100],datahigh[1][22:100],color='black',s=50,facecolors='red')\n",
        "#plt.plot(vr,didvr[2],color=\"black\",linewidth=3)\n",
        "\n",
        "fig = plt.gcf()\n",
        "fig.set_size_inches((10,10))\n",
        "#fig.savefig('./latest.pdf',dpi=300)\n",
        "plt.show()\n",
        "\n"
      ],
      "execution_count": 1,
      "outputs": [
        {
          "output_type": "error",
          "ename": "FileNotFoundError",
          "evalue": "ignored",
          "traceback": [
            "\u001b[0;31m---------------------------------------------------------------------------\u001b[0m",
            "\u001b[0;31mFileNotFoundError\u001b[0m                         Traceback (most recent call last)",
            "\u001b[0;32m<ipython-input-1-cf35c9be826d>\u001b[0m in \u001b[0;36m<module>\u001b[0;34m()\u001b[0m\n\u001b[1;32m     14\u001b[0m \u001b[0;31m#Import CSVs\u001b[0m\u001b[0;34m\u001b[0m\u001b[0;34m\u001b[0m\u001b[0;34m\u001b[0m\u001b[0m\n\u001b[1;32m     15\u001b[0m \u001b[0mdatahigh\u001b[0m \u001b[0;34m=\u001b[0m \u001b[0;34m[\u001b[0m\u001b[0;34m[\u001b[0m\u001b[0;34m]\u001b[0m\u001b[0;34m,\u001b[0m\u001b[0;34m[\u001b[0m\u001b[0;34m]\u001b[0m\u001b[0;34m]\u001b[0m\u001b[0;34m\u001b[0m\u001b[0;34m\u001b[0m\u001b[0m\n\u001b[0;32m---> 16\u001b[0;31m \u001b[0;32mwith\u001b[0m \u001b[0mopen\u001b[0m\u001b[0;34m(\u001b[0m\u001b[0;34m\"./high.csv\"\u001b[0m\u001b[0;34m)\u001b[0m \u001b[0;32mas\u001b[0m \u001b[0mhigh\u001b[0m\u001b[0;34m:\u001b[0m\u001b[0;34m\u001b[0m\u001b[0;34m\u001b[0m\u001b[0m\n\u001b[0m\u001b[1;32m     17\u001b[0m     \u001b[0mrdr\u001b[0m \u001b[0;34m=\u001b[0m \u001b[0mcsv\u001b[0m\u001b[0;34m.\u001b[0m\u001b[0mreader\u001b[0m\u001b[0;34m(\u001b[0m\u001b[0mhigh\u001b[0m\u001b[0;34m,\u001b[0m \u001b[0mdelimiter\u001b[0m\u001b[0;34m=\u001b[0m\u001b[0;34m','\u001b[0m\u001b[0;34m)\u001b[0m\u001b[0;34m\u001b[0m\u001b[0;34m\u001b[0m\u001b[0m\n\u001b[1;32m     18\u001b[0m     \u001b[0;32mfor\u001b[0m \u001b[0mrow\u001b[0m \u001b[0;32min\u001b[0m \u001b[0mrdr\u001b[0m\u001b[0;34m:\u001b[0m\u001b[0;34m\u001b[0m\u001b[0;34m\u001b[0m\u001b[0m\n",
            "\u001b[0;31mFileNotFoundError\u001b[0m: [Errno 2] No such file or directory: './high.csv'"
          ]
        },
        {
          "output_type": "display_data",
          "data": {
            "image/png": "[encoded data removed]",
            "text/plain": [
              "<Figure size 432x288 with 1 Axes>"
            ]
          },
          "metadata": {
            "tags": [],
            "needs_background": "light"
          }
        }
      ]
    },
    {
      "cell_type": "code",
      "metadata": {
        "id": "XPyYdKooFh7Z"
      },
      "source": [
        ""
      ],
      "execution_count": null,
      "outputs": []
    }
  ]
}